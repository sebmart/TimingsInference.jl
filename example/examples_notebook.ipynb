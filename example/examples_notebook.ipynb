{
 "cells": [
  {
   "cell_type": "markdown",
   "metadata": {},
   "source": [
    "# Timings Inference examples "
   ]
  },
  {
   "cell_type": "markdown",
   "metadata": {},
   "source": [
    "Typical import "
   ]
  },
  {
   "cell_type": "code",
   "execution_count": 2,
   "metadata": {
    "collapsed": true
   },
   "outputs": [],
   "source": [
    "using RoutingNetworks, TimingsInference, JLD"
   ]
  },
  {
   "cell_type": "markdown",
   "metadata": {},
   "source": [
    "# Synthetic data\n",
    "First, we create a synthetic network `n` (with tools from RoutingNetworks.jl). We associate it with a set of synthetic \"true\" timings `trueTimings`. Timings contains link times and times for each path.\n",
    "\n",
    "Uncomment visualizations to see results"
   ]
  },
  {
   "cell_type": "code",
   "execution_count": 14,
   "metadata": {
    "collapsed": false
   },
   "outputs": [
    {
     "data": {
      "text/plain": [
       "with path and time for all 36672 possible trips\n"
      ]
     },
     "execution_count": 14,
     "metadata": {},
     "output_type": "execute_result"
    },
    {
     "name": "stdout",
     "output_type": "stream",
     "text": [
      "Network routing times\n"
     ]
    }
   ],
   "source": [
    "n = urbanNetwork(8)\n",
    "# visualize(n)\n",
    "\n",
    "# random speeds (btw 0 and 130kph)\n",
    "trueTimings = randomTimings(n)\n",
    "\n",
    "# another possibility: constant predefined speed for each road-type\n",
    "trueTimings = roadTypeTimings(n)\n",
    "\n",
    "# visualize(ShowTimes(n,trueTimings))"
   ]
  },
  {
   "cell_type": "markdown",
   "metadata": {},
   "source": [
    "Then, we create a synthetic set of trips based on this \"true\" times. This is stored as a `NetworkData` object, which contained all information for timings inference: network structure, trips and speed limits"
   ]
  },
  {
   "cell_type": "code",
   "execution_count": 13,
   "metadata": {
    "collapsed": false
   },
   "outputs": [
    {
     "data": {
      "text/plain": [
       "NetworkData: trip information in network\n",
       "7289 trips (19.88% density)"
      ]
     },
     "execution_count": 13,
     "metadata": {},
     "output_type": "execute_result"
    }
   ],
   "source": [
    "# All possible trips are given (for testing purposes)\n",
    "pb = perfectVirtualData(trueTimings, 0.) \n",
    "\n",
    "# Generate data that tries to mimic real rides in a uniform city. \n",
    "pb = noisyVirtualData(trueTimings, 0.2, 2., timeStd = 20.)"
   ]
  },
  {
   "cell_type": "markdown",
   "metadata": {},
   "source": [
    "## Iterative methods\n",
    "The `IterativeState` object represents the state of an iterative time-estimation algorithm. It contains all the data, the current computed times, the set of paths that is used...\n",
    "\n",
    "- `LimitedPath` is an implementation, that computes iteratively a set of paths for a subset of the trip data. A limit on the number of paths can be set."
   ]
  },
  {
   "cell_type": "code",
   "execution_count": null,
   "metadata": {
    "collapsed": true
   },
   "outputs": [],
   "source": [
    "# first, initialize the iterative method with a set of times.\n",
    "#Several options here\n",
    "initialTimes = \n",
    "initialTimes = randomTimes(n)"
   ]
  }
 ],
 "metadata": {
  "kernelspec": {
   "display_name": "Julia 0.4.6",
   "language": "julia",
   "name": "julia-0.4"
  },
  "language_info": {
   "file_extension": ".jl",
   "mimetype": "application/julia",
   "name": "julia",
   "version": "0.4.6"
  }
 },
 "nbformat": 4,
 "nbformat_minor": 1
}
