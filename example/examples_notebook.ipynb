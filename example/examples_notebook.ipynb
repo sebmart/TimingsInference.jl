{
 "cells": [
  {
   "cell_type": "markdown",
   "metadata": {},
   "source": [
    "# Timings Inference examples "
   ]
  },
  {
   "cell_type": "markdown",
   "metadata": {},
   "source": [
    "Typical import "
   ]
  },
  {
   "cell_type": "code",
   "execution_count": null,
   "metadata": {
    "collapsed": false
   },
   "outputs": [],
   "source": [
    "using RoutingNetworks, TimingsInference, JLD"
   ]
  },
  {
   "cell_type": "markdown",
   "metadata": {},
   "source": [
    "# Network timings optimization\n",
    "## Synthesizing network data\n",
    "First, we create a synthetic network `n` (with tools from RoutingNetworks.jl). We associate it with a set of synthetic \"true\" timings `trueTimings`. Timings contains link times and times for each path.\n",
    "\n",
    "Uncomment visualizations to see results"
   ]
  },
  {
   "cell_type": "code",
   "execution_count": null,
   "metadata": {
    "collapsed": false
   },
   "outputs": [],
   "source": [
    "n = urbanNetwork(8)\n",
    "# visualize(n)\n",
    "\n",
    "# random speeds (btw 0 and 130kph)\n",
    "trueTimings = randomTimings(n)\n",
    "\n",
    "# another possibility: constant predefined speed for each road-type\n",
    "trueTimings = roadTypeTimings(n)\n",
    "\n",
    "# visualize(ShowTimes(n,trueTimings))"
   ]
  },
  {
   "cell_type": "markdown",
   "metadata": {},
   "source": [
    "Then, we create a synthetic set of trips based on this \"true\" times. This is stored as a `NetworkData` object, which contained all information for timings inference: network structure, trips and speed limits"
   ]
  },
  {
   "cell_type": "code",
   "execution_count": null,
   "metadata": {
    "collapsed": false
   },
   "outputs": [],
   "source": [
    "# All possible trips are given (for testing purposes)\n",
    "pb = perfectVirtualData(trueTimings, 0.) \n",
    "\n",
    "# Generate data that tries to mimic real rides in a uniform city. \n",
    "pb = noisyVirtualData(trueTimings, 0.2, 2., timeStd = 20.)"
   ]
  },
  {
   "cell_type": "markdown",
   "metadata": {},
   "source": [
    "## Iterative methods\n",
    "The `IterativeState` object represents the state of an iterative time-estimation algorithm. It contains all the data, the current computed times, the set of paths that is used...\n",
    "\n",
    "- `LimitedPath` is an implementation, that computes iteratively a set of paths for a subset of the trip data. A limit on the number of paths can be set.\n",
    "\n",
    "The different methods available to compute new times are:\n",
    "- `lp`: minimize MAPE (Mean absolute percentage error), uses Gurobi. `lpCo` and `lpCoNbhd` (Nbhd == Neighborhood) just add continuity constraints.\n",
    "- `socp`: minimize MRE (Max ratio error), uses Mosek. `socpCo` and `Nbhd` (Nbhd == Neighborhood) just add continuity constraints.\n",
    "- `mip`: implements the \"minimum\" constraints"
   ]
  },
  {
   "cell_type": "code",
   "execution_count": null,
   "metadata": {
    "collapsed": false
   },
   "outputs": [],
   "source": [
    "# first, initialize the iterative method with a set of times.\n",
    "# Several options here\n",
    "initialTimes = TimingsInference.uniformTimes(n,50) #speed 50kph\n",
    "initialTimes = pb.minTimes # maximal allowed speed\n",
    "initialTimes = randomTimes(n);\n",
    "\n",
    "# them, create the state\n",
    "s = LimitedPaths(pb, initialTimes, pathsPerTrip = 3, maxTrip=1000)\n",
    "\n",
    "# do a number of iterations of a desired algorithm\n",
    "for i = 1:5\n",
    "    doIteration!(s, method=\"lp\", OutputFlag=0)\n",
    "    println(\"Iteration $i, pathDiff=$(s.pathDiff)\")\n",
    "end\n",
    "# solver args can also be given\n",
    "# pathDiff measures how much the last iteration changed the path \n",
    "# (measure of convergence)"
   ]
  },
  {
   "cell_type": "markdown",
   "metadata": {},
   "source": [
    "## Stats and visualization\n",
    "To understand the evolution of iterative methods, we feed the results of each iteration to a NetworkStats object. We then use this object to query and visualize the data.\n",
    "\n",
    "- First, we modify the loop to collect the information"
   ]
  },
  {
   "cell_type": "code",
   "execution_count": null,
   "metadata": {
    "collapsed": false
   },
   "outputs": [],
   "source": [
    "stats = VirtNetworkStats[] # this type of statistics requires that we have access to \"true\" times.\n",
    "\n",
    "initialTimes = randomTimes(n);\n",
    "s = LimitedPaths(pb, initialTimes, pathsPerTrip = 3, maxTrip=1000)\n",
    "\n",
    "push!(stats, VirtNetworkStats(\"start\", s, trueTimings))\n",
    "\n",
    "# save stats at each iteration\n",
    "for i = 1:5\n",
    "    doIteration!(s, method=\"lp\", OutputFlag=0)\n",
    "    push!(stats, VirtNetworkStats(\"Iter $i\", s, trueTimings))\n",
    "    println(\"Iteration $i, pathDiff=$(s.pathDiff)\")\n",
    "end"
   ]
  },
  {
   "cell_type": "markdown",
   "metadata": {},
   "source": [
    "- Now, we can either print stats about a particular iteration, or print or plot the evolution of a particular statistics accross a sequence of iterations"
   ]
  },
  {
   "cell_type": "code",
   "execution_count": null,
   "metadata": {
    "collapsed": false
   },
   "outputs": [],
   "source": [
    "printStats(stats[end]) #stats of last iteration"
   ]
  },
  {
   "cell_type": "code",
   "execution_count": null,
   "metadata": {
    "collapsed": false
   },
   "outputs": [],
   "source": [
    "printStats(stats, \"allPathsLogError\")"
   ]
  },
  {
   "cell_type": "code",
   "execution_count": null,
   "metadata": {
    "collapsed": false
   },
   "outputs": [],
   "source": [
    "plotStats(stats, \"allPathsLogError\")"
   ]
  },
  {
   "cell_type": "markdown",
   "metadata": {},
   "source": [
    "- We can also inspect the evolution of the link times through an interactive visualization:\n",
    "    - `SPACE` and `B` to respectively move to the next or previous iteration.\n",
    "    - `ARROWS` to move around\n",
    "    - `Z` and `X` to move in/out\n",
    "    - `A` and `S` to increase/decrease the drawing size\n",
    "    - `D` to show/hide the nodes of the network\n",
    "    - `Q` and `ESC` to quit"
   ]
  },
  {
   "cell_type": "code",
   "execution_count": null,
   "metadata": {
    "collapsed": false
   },
   "outputs": [],
   "source": [
    "visualize(ShowTimes(n, stats, trueTimings))"
   ]
  },
  {
   "cell_type": "markdown",
   "metadata": {},
   "source": [
    "# Working with real data\n",
    "We present here a study using Manhattan's taxi data\n",
    "## Setting up the network\n",
    "The first step is to create the desired routing network. This can be done with the package RoutingNetworks, from a polygon. In our case we will use the predefined MANHATTAN polygon.\n",
    "- get data (can take some time)"
   ]
  },
  {
   "cell_type": "code",
   "execution_count": null,
   "metadata": {
    "collapsed": false
   },
   "outputs": [],
   "source": [
    "MAN = getPolygon(\"Manhattan\"); #Manhattan is hardcoded\n",
    "manhattanNetwork = queryOsmPolygon(MAN)"
   ]
  },
  {
   "cell_type": "markdown",
   "metadata": {},
   "source": [
    "- format the network to our need"
   ]
  },
  {
   "cell_type": "code",
   "execution_count": null,
   "metadata": {
    "collapsed": false
   },
   "outputs": [],
   "source": [
    "manhattanNetwork = roadTypeSubset(manhattanNetwork,1:6) # only keep main driving roads\n",
    "manhattanNetwork = stronglyConnected(manhattanNetwork,1) # only keep the main connected component (hoping it's the one of node 1)\n",
    "manhattanNetwork = intersections(manhattanNetwork) # simplify enormously the network, so that each node correspond to an intersection"
   ]
  },
  {
   "cell_type": "markdown",
   "metadata": {},
   "source": [
    "- save the network to a julia JLD file for latter use"
   ]
  },
  {
   "cell_type": "code",
   "execution_count": null,
   "metadata": {
    "collapsed": false
   },
   "outputs": [],
   "source": [
    "saveTemplate(manhattanNetwork, \"Manhattan\")"
   ]
  },
  {
   "cell_type": "markdown",
   "metadata": {},
   "source": [
    "- to load the network, just do:"
   ]
  },
  {
   "cell_type": "code",
   "execution_count": null,
   "metadata": {
    "collapsed": false
   },
   "outputs": [],
   "source": [
    "manhattanNetwork = loadTemplate(\"Manhattan\")\n",
    "# visualize(n)"
   ]
  },
  {
   "cell_type": "markdown",
   "metadata": {},
   "source": [
    "## Formatting / loading the data\n",
    "- Timings Inference have function to automatically load of NTC data. The CSVs can be found on their [website](http://www.nyc.gov/html/tlc/html/about/trip_record_data.shtml). \n"
   ]
  },
  {
   "cell_type": "code",
   "execution_count": null,
   "metadata": {
    "collapsed": false
   },
   "outputs": [],
   "source": [
    "# Download data from website (will take some time, size = 1.8gb)\n",
    "const DATA_URL_04_2016 = \"https://s3.amazonaws.com/nyc-tlc/trip+data/yellow_tripdata_2016-04.csv\"\n",
    "download(DATA_URL_04_2016, \"taxidata042016.csv\")"
   ]
  },
  {
   "cell_type": "markdown",
   "metadata": {},
   "source": [
    "- We transform this data into a set of `GeoTrip`, which represents one trip in continuous coordinates. Note that a `GeoTrip` also contains the DateTime of the trip. To load from other datasets, one needs to write a converting function."
   ]
  },
  {
   "cell_type": "code",
   "execution_count": null,
   "metadata": {
    "collapsed": false
   },
   "outputs": [],
   "source": [
    "# loads the data as a set of GeoTrip (long computation!)\n",
    "trips = fromNYCTaxiCSV(\"taxidata042016.csv\");"
   ]
  },
  {
   "cell_type": "markdown",
   "metadata": {},
   "source": [
    "- cleaning the data and subsetting it"
   ]
  },
  {
   "cell_type": "code",
   "execution_count": null,
   "metadata": {
    "collapsed": false
   },
   "outputs": [],
   "source": [
    "trips = removeOutliers(trips) # remove trips that are likely to be bad data-points\n",
    "trips = inPolygon(trips, getPolygon(\"Manhattan\")) # origin and destination with specified polygon\n",
    "trips = onlyWeekdays(trips) # another filter\n",
    "trips = inTimeWindow(trips, \"9:00\", \"11:00\"); # restrict to a specific time of the day\n",
    "println(length(trips), \" trips\")"
   ]
  },
  {
   "cell_type": "markdown",
   "metadata": {},
   "source": [
    "- saving for latter use and deleting temporary files"
   ]
  },
  {
   "cell_type": "code",
   "execution_count": null,
   "metadata": {
    "collapsed": true
   },
   "outputs": [],
   "source": [
    "save(\"taxitrips.jld\", \"trips\", trips)\n",
    "rm(\"taxidata042016.csv\")"
   ]
  },
  {
   "cell_type": "code",
   "execution_count": null,
   "metadata": {
    "collapsed": false
   },
   "outputs": [],
   "source": [
    "trips = load(\"taxitrips.jld\", \"trips\");"
   ]
  },
  {
   "cell_type": "markdown",
   "metadata": {},
   "source": [
    "## Timing Prediction\n",
    "- First, we separate the data in a training and a testing set. The `DataSplit` type is a helper."
   ]
  },
  {
   "cell_type": "code",
   "execution_count": null,
   "metadata": {
    "collapsed": false
   },
   "outputs": [],
   "source": [
    "TRAINING_FRACTION = 0.6\n",
    "dataSplit = RandomSplit(trips, TRAINING_FRACTION)"
   ]
  },
  {
   "cell_type": "markdown",
   "metadata": {},
   "source": [
    "- From there, we can directly construct a timings estimator (`GeoTimings` object) on the training set, and use it to compute times for the testing set."
   ]
  },
  {
   "cell_type": "code",
   "execution_count": null,
   "metadata": {
    "collapsed": false
   },
   "outputs": [],
   "source": [
    "K = 15\n",
    "# K nearest-neighbor estimator\n",
    "knnEstimator = KnnTimings(dataSplit, K)"
   ]
  },
  {
   "cell_type": "markdown",
   "metadata": {},
   "source": [
    "- In order to evaluate how well this estimator performs on the data, we can use a GeoStats object"
   ]
  },
  {
   "cell_type": "code",
   "execution_count": null,
   "metadata": {
    "collapsed": false
   },
   "outputs": [],
   "source": [
    "stats = RealGeoStats(\"15-NN stats\", knnEstimator, dataSplit)"
   ]
  },
  {
   "cell_type": "code",
   "execution_count": null,
   "metadata": {
    "collapsed": false,
    "scrolled": true
   },
   "outputs": [],
   "source": [
    "printStats(stats)"
   ]
  },
  {
   "cell_type": "markdown",
   "metadata": {},
   "source": [
    "## Projecting and using Network estimators\n",
    "- In order to use `NetworkTimings` solver with continuous data, we use `NetworkProjector` types as a bridge between the two: \n",
    "    - to create `NetworkData` from `GeoData`\n",
    "    - to use `NetworkTimings` to get `GeoTimings`"
   ]
  },
  {
   "cell_type": "markdown",
   "metadata": {},
   "source": [
    "First, create a projector:"
   ]
  },
  {
   "cell_type": "code",
   "execution_count": null,
   "metadata": {
    "collapsed": false
   },
   "outputs": [],
   "source": [
    "proj = AvgRadius(manhattanNetwork, 200, trips) # project on all nodes within a 4-D sphere\n",
    "proj = NearestRoad(manhattanNetwork, trips) # project onto the nearest road\n",
    "proj = NearestNode(manhattanNetwork, trips) # project onto the nearest node in the network"
   ]
  },
  {
   "cell_type": "markdown",
   "metadata": {},
   "source": [
    "Then, create a NetworkData from the continuous data using the projector (notice that the number of trip may vary when switching to the discrete network representation, some of them are combined):\n"
   ]
  },
  {
   "cell_type": "code",
   "execution_count": null,
   "metadata": {
    "collapsed": false
   },
   "outputs": [],
   "source": [
    "pb = NetworkData(proj, # the projector\n",
    "                 trainSet(dataSplit), # the data we want to use\n",
    "                 maxSpeedTimes(manhattanNetwork)) # speed limits\n",
    "# we will need this one latter.\n",
    "pbTest = NetworkData(proj, testSet(dataSplit), maxSpeedTimes(manhattanNetwork))\n",
    "pb"
   ]
  },
  {
   "cell_type": "markdown",
   "metadata": {},
   "source": [
    "Now we can just use our network-based timings estimation methods. Notice the use of `TimingsFromNetwork` to access the continuous-estimator at each iteration and used to compute the continuous stats.. We use the `RealNetworkStats` to get the discrete stats."
   ]
  },
  {
   "cell_type": "code",
   "execution_count": null,
   "metadata": {
    "collapsed": false
   },
   "outputs": [],
   "source": [
    "initialTimes = randomTimes(manhattanNetwork);\n",
    "s = LimitedPaths(pb, initialTimes, pathsPerTrip = 3, maxTrip=5000)\n",
    "\n",
    "# Network time inference statistics\n",
    "networkStats = RealNetworkStats[]\n",
    "push!(networkStats, RealNetworkStats(\"start\", s, pbTest))\n",
    "\n",
    "# Continuous time inference statistics\n",
    "geoStats = RealGeoStats[]\n",
    "geoEstimator = TimingsFromNetwork(NetworkTimings(s), proj) #use projector to turn network estimator into a geo estimator\n",
    "push!(geoStats, RealGeoStats(\"start\", geoEstimator, dataSplit))\n",
    "\n",
    "# save stats at each iteration\n",
    "for i = 1:5\n",
    "    # Infer new network timings\n",
    "    doIteration!(s, method=\"lp\", OutputFlag=0)\n",
    "    \n",
    "    #compute stats...\n",
    "    push!(networkStats, RealNetworkStats(\"Iter $i\", s, pbTest))\n",
    "    geoEstimator = TimingsFromNetwork(NetworkTimings(s), proj)\n",
    "    push!(geoStats, RealGeoStats(\"Iter $i\", geoEstimator, dataSplit))\n",
    "\n",
    "    println(\"Iteration $i, pathDiff=$(s.pathDiff)\")\n",
    "end"
   ]
  },
  {
   "cell_type": "code",
   "execution_count": null,
   "metadata": {
    "collapsed": false
   },
   "outputs": [],
   "source": [
    "printStats(networkStats, \"testNetworkTripsLogError\")\n",
    "println()\n",
    "printStats(geoStats, \"testTripsLogError\")"
   ]
  },
  {
   "cell_type": "markdown",
   "metadata": {},
   "source": [
    "As before, we can show the evolution as a interactive visualization:"
   ]
  },
  {
   "cell_type": "code",
   "execution_count": null,
   "metadata": {
    "collapsed": false
   },
   "outputs": [],
   "source": [
    "visualize(ShowTimes(manhattanNetwork, networkStats))"
   ]
  }
 ],
 "metadata": {
  "kernelspec": {
   "display_name": "Julia 0.5.0",
   "language": "julia",
   "name": "julia-0.5"
  },
  "language_info": {
   "file_extension": ".jl",
   "mimetype": "application/julia",
   "name": "julia",
   "version": "0.5.0"
  }
 },
 "nbformat": 4,
 "nbformat_minor": 1
}
