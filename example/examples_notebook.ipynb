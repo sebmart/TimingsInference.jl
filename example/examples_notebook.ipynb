{
 "cells": [
  {
   "cell_type": "markdown",
   "metadata": {},
   "source": [
    "# Timings Inference examples "
   ]
  },
  {
   "cell_type": "markdown",
   "metadata": {},
   "source": [
    "Typical import "
   ]
  },
  {
   "cell_type": "code",
   "execution_count": 1,
   "metadata": {
    "collapsed": false
   },
   "outputs": [],
   "source": [
    "using RoutingNetworks, TimingsInference, JLD"
   ]
  },
  {
   "cell_type": "markdown",
   "metadata": {},
   "source": [
    "# Network timings optimization\n",
    "## Synthesizing network data\n",
    "First, we create a synthetic network `n` (with tools from RoutingNetworks.jl). We associate it with a set of synthetic \"true\" timings `trueTimings`. Timings contains link times and times for each path.\n",
    "\n",
    "Uncomment visualizations to see results"
   ]
  },
  {
   "cell_type": "code",
   "execution_count": 2,
   "metadata": {
    "collapsed": false
   },
   "outputs": [
    {
     "data": {
      "text/plain": [
       "with path and time for all 36672 possible trips\n"
      ]
     },
     "execution_count": 2,
     "metadata": {},
     "output_type": "execute_result"
    }
   ],
   "source": [
    "n = urbanNetwork(8)\n",
    "# visualize(n)\n",
    "\n",
    "# random speeds (btw 0 and 130kph)\n",
    "trueTimings = randomTimings(n)\n",
    "\n",
    "# another possibility: constant predefined speed for each road-type\n",
    "trueTimings = roadTypeTimings(n)\n",
    "\n",
    "# visualize(ShowTimes(n,trueTimings))"
   ]
  },
  {
   "cell_type": "markdown",
   "metadata": {},
   "source": [
    "Then, we create a synthetic set of trips based on this \"true\" times. This is stored as a `NetworkData` object, which contained all information for timings inference: network structure, trips and speed limits"
   ]
  },
  {
   "cell_type": "code",
   "execution_count": 3,
   "metadata": {
    "collapsed": false
   },
   "outputs": [
    {
     "name": "stdout",
     "output_type": "stream",
     "text": [
      "Network routing times\n"
     ]
    },
    {
     "data": {
      "text/plain": [
       "NetworkData: trip information in network\n",
       "7129 trips (19.44% density)"
      ]
     },
     "execution_count": 3,
     "metadata": {},
     "output_type": "execute_result"
    }
   ],
   "source": [
    "# All possible trips are given (for testing purposes)\n",
    "pb = perfectVirtualData(trueTimings, 0.) \n",
    "\n",
    "# Generate data that tries to mimic real rides in a uniform city. \n",
    "pb = noisyVirtualData(trueTimings, 0.2, 2., timeStd = 20.)"
   ]
  },
  {
   "cell_type": "markdown",
   "metadata": {},
   "source": [
    "## Iterative methods\n",
    "The `IterativeState` object represents the state of an iterative time-estimation algorithm. It contains all the data, the current computed times, the set of paths that is used...\n",
    "\n",
    "- `LimitedPath` is an implementation, that computes iteratively a set of paths for a subset of the trip data. A limit on the number of paths can be set.\n",
    "\n",
    "The different methods available to compute new times are:\n",
    "- `lp`: minimize MAPE (Mean absolute percentage error), uses Gurobi. `lpCo` and `lpCoNbhd` (Nbhd == Neighborhood) just add continuity constraints.\n",
    "- `socp`: minimize MRE (Max ratio error), uses Mosek. `socpCo` and `Nbhd` (Nbhd == Neighborhood) just add continuity constraints.\n",
    "- `mip`: implements the \"minimum\" constraints"
   ]
  },
  {
   "cell_type": "code",
   "execution_count": 6,
   "metadata": {
    "collapsed": false
   },
   "outputs": [
    {
     "name": "stdout",
     "output_type": "stream",
     "text": [
      "Iteration 1, pathDiff=8.0165\n",
      "Iteration 2, pathDiff=3.102\n",
      "Iteration 3, pathDiff=1.679\n",
      "Iteration 4, pathDiff=1.195\n",
      "Iteration 5, pathDiff=0.7925\n"
     ]
    }
   ],
   "source": [
    "# first, initialize the iterative method with a set of times.\n",
    "# Several options here\n",
    "initialTimes = uniformTimes(n,50) #speed 50kph\n",
    "initialTimes = pb.minTimes # maximal allowed speed\n",
    "initialTimes = randomTimes(n);\n",
    "\n",
    "# them, create the state\n",
    "s = LimitedPaths(pb, initialTimes, pathsPerTrip = 3, maxTrip=1000)\n",
    "\n",
    "# do a number of iterations of a desired algorithm\n",
    "for i = 1:5\n",
    "    doIteration!(s, method=\"lp\", OutputFlag=0)\n",
    "    println(\"Iteration $i, pathDiff=$(s.pathDiff)\")\n",
    "end\n",
    "# solver args can also be given\n",
    "# pathDiff measures how much the last iteration changed the path \n",
    "# (measure of convergence)"
   ]
  },
  {
   "cell_type": "markdown",
   "metadata": {},
   "source": [
    "## Stats and visualization\n",
    "To understand the evolution of iterative methods, we feed the results of each iteration to a NetworkStats object. We then use this object to query and visualize the data.\n",
    "\n",
    "- First, we modify the loop to collect the information"
   ]
  },
  {
   "cell_type": "code",
   "execution_count": 4,
   "metadata": {
    "collapsed": false
   },
   "outputs": [
    {
     "name": "stdout",
     "output_type": "stream",
     "text": [
      "Iteration 1, pathDiff=7.2235\n",
      "Iteration 2, pathDiff=3.828\n",
      "Iteration 3, pathDiff=1.8395\n",
      "Iteration 4, pathDiff=1.2635\n",
      "Iteration 5, pathDiff=1.237\n"
     ]
    }
   ],
   "source": [
    "stats = VirtNetworkStats[] # this type of statistics requires that we have access to \"true\" times.\n",
    "\n",
    "initialTimes = randomTimes(n);\n",
    "s = LimitedPaths(pb, initialTimes, pathsPerTrip = 3, maxTrip=1000)\n",
    "\n",
    "push!(stats, VirtNetworkStats(\"start\", s, trueTimings))\n",
    "\n",
    "# save stats at each iteration\n",
    "for i = 1:5\n",
    "    doIteration!(s, method=\"lp\", OutputFlag=0)\n",
    "    push!(stats, VirtNetworkStats(\"Iter $i\", s, trueTimings))\n",
    "    println(\"Iteration $i, pathDiff=$(s.pathDiff)\")\n",
    "end"
   ]
  },
  {
   "cell_type": "markdown",
   "metadata": {},
   "source": [
    "- Now, we can either print stats about a particular iteration, or print or plot the evolution of a particular statistics accross a sequence of iterations"
   ]
  },
  {
   "cell_type": "code",
   "execution_count": 7,
   "metadata": {
    "collapsed": false
   },
   "outputs": [
    {
     "name": "stdout",
     "output_type": "stream",
     "text": [
      "VirtNetworkStats: Iter 5\n",
      "\n",
      "allPathsLogBias    -3.507\n",
      "allPathsLogError   10.771\n",
      "pathDiff           1.237\n",
      "roadTimeLogBias    -1.017\n",
      "roadTimeLogError   42.870\n",
      "tripsLogBias       -1.852\n",
      "tripsLogError      16.281\n",
      "tripsRealLogBias   -3.641\n",
      "tripsRealLogError  10.069\n"
     ]
    }
   ],
   "source": [
    "printStats(stats[end]) #stats of last iteration"
   ]
  },
  {
   "cell_type": "code",
   "execution_count": 8,
   "metadata": {
    "collapsed": false
   },
   "outputs": [
    {
     "name": "stdout",
     "output_type": "stream",
     "text": [
      "allPathsLogError\n",
      "start\t37.70%\n",
      "Iter 1\t28.85%\n",
      "Iter 2\t15.36%\n",
      "Iter 3\t11.75%\n",
      "Iter 4\t10.82%\n",
      "Iter 5\t10.77%\n"
     ]
    }
   ],
   "source": [
    "printStats(stats, \"allPathsLogError\")"
   ]
  },
  {
   "cell_type": "code",
   "execution_count": 9,
   "metadata": {
    "collapsed": false
   },
   "outputs": [
    {
     "data": {
      "image/png": "[encoded data removed]",
      "text/plain": [
       "PyPlot.Figure(PyObject <matplotlib.figure.Figure object at 0x31074b8d0>)"
      ]
     },
     "metadata": {},
     "output_type": "display_data"
    }
   ],
   "source": [
    "plotStats(stats, \"allPathsLogError\")"
   ]
  },
  {
   "cell_type": "code",
   "execution_count": null,
   "metadata": {
    "collapsed": true
   },
   "outputs": [],
   "source": []
  }
 ],
 "metadata": {
  "kernelspec": {
   "display_name": "Julia 0.4.6",
   "language": "julia",
   "name": "julia-0.4"
  },
  "language_info": {
   "file_extension": ".jl",
   "mimetype": "application/julia",
   "name": "julia",
   "version": "0.4.6"
  }
 },
 "nbformat": 4,
 "nbformat_minor": 1
}
